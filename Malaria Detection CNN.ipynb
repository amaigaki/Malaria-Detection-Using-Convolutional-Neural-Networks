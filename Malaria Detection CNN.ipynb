{
 "cells": [
  {
   "cell_type": "markdown",
   "metadata": {},
   "source": [
    "## Malaria Detection Using Convolutional Neural Networks"
   ]
  },
  {
   "cell_type": "code",
   "execution_count": 1,
   "metadata": {},
   "outputs": [],
   "source": [
    "#importing important libraries\n",
    "import numpy as np\n",
    "import pandas as pd\n",
    "import h5py\n",
    "import glob\n",
    "import cv2\n",
    "import matplotlib.pyplot as plt"
   ]
  },
  {
   "cell_type": "code",
   "execution_count": 2,
   "metadata": {},
   "outputs": [
    {
     "name": "stdout",
     "output_type": "stream",
     "text": [
      "Length of parasitized_folder: 13779\n",
      "Length of uninfected_folder: 13779\n"
     ]
    }
   ],
   "source": [
    "#Create a list of image paths to import images.\n",
    "parasitized_folder = glob.glob(r'C:\\Users\\USER\\Documents\\Complete ML\\Datasets\\cell_images\\Parasitized\\*.png')\n",
    "uninfected_folder = glob.glob(r'C:\\Users\\USER\\Documents\\Complete ML\\Datasets\\cell_images\\Uninfected\\*png')\n",
    "print(\"Length of parasitized_folder: %d\"%len(parasitized_folder))\n",
    "print(\"Length of uninfected_folder: %d\"%len(uninfected_folder))"
   ]
  },
  {
   "cell_type": "code",
   "execution_count": 3,
   "metadata": {},
   "outputs": [
    {
     "data": {
      "text/html": [
       "<div>\n",
       "<style scoped>\n",
       "    .dataframe tbody tr th:only-of-type {\n",
       "        vertical-align: middle;\n",
       "    }\n",
       "\n",
       "    .dataframe tbody tr th {\n",
       "        vertical-align: top;\n",
       "    }\n",
       "\n",
       "    .dataframe thead th {\n",
       "        text-align: right;\n",
       "    }\n",
       "</style>\n",
       "<table border=\"1\" class=\"dataframe\">\n",
       "  <thead>\n",
       "    <tr style=\"text-align: right;\">\n",
       "      <th></th>\n",
       "      <th>image_path</th>\n",
       "      <th>label</th>\n",
       "    </tr>\n",
       "  </thead>\n",
       "  <tbody>\n",
       "    <tr>\n",
       "      <th>0</th>\n",
       "      <td>C:\\Users\\USER\\Documents\\Complete ML\\Datasets\\c...</td>\n",
       "      <td>Parasitized</td>\n",
       "    </tr>\n",
       "    <tr>\n",
       "      <th>1</th>\n",
       "      <td>C:\\Users\\USER\\Documents\\Complete ML\\Datasets\\c...</td>\n",
       "      <td>Parasitized</td>\n",
       "    </tr>\n",
       "    <tr>\n",
       "      <th>2</th>\n",
       "      <td>C:\\Users\\USER\\Documents\\Complete ML\\Datasets\\c...</td>\n",
       "      <td>Uninfected</td>\n",
       "    </tr>\n",
       "    <tr>\n",
       "      <th>3</th>\n",
       "      <td>C:\\Users\\USER\\Documents\\Complete ML\\Datasets\\c...</td>\n",
       "      <td>Parasitized</td>\n",
       "    </tr>\n",
       "    <tr>\n",
       "      <th>4</th>\n",
       "      <td>C:\\Users\\USER\\Documents\\Complete ML\\Datasets\\c...</td>\n",
       "      <td>Uninfected</td>\n",
       "    </tr>\n",
       "  </tbody>\n",
       "</table>\n",
       "</div>"
      ],
      "text/plain": [
       "                                          image_path        label\n",
       "0  C:\\Users\\USER\\Documents\\Complete ML\\Datasets\\c...  Parasitized\n",
       "1  C:\\Users\\USER\\Documents\\Complete ML\\Datasets\\c...  Parasitized\n",
       "2  C:\\Users\\USER\\Documents\\Complete ML\\Datasets\\c...   Uninfected\n",
       "3  C:\\Users\\USER\\Documents\\Complete ML\\Datasets\\c...  Parasitized\n",
       "4  C:\\Users\\USER\\Documents\\Complete ML\\Datasets\\c...   Uninfected"
      ]
     },
     "execution_count": 3,
     "metadata": {},
     "output_type": "execute_result"
    }
   ],
   "source": [
    "\"\"\"\n",
    "The data is suffieciently large, hence, we will do all the splitting operations on path files \n",
    "before working with the actual image data.\n",
    "\"\"\"\n",
    "data_path = pd.DataFrame({\n",
    "    'image_path': parasitized_folder + uninfected_folder,\n",
    "    'label': ['Parasitized']*len(parasitized_folder) + ['Uninfected']*len(uninfected_folder)\n",
    "}).sample(random_state=10).reset_index(drop=True)\n",
    "data_path.head()"
   ]
  },
  {
   "cell_type": "code",
   "execution_count": 4,
   "metadata": {},
   "outputs": [],
   "source": [
    "#Split path values before importing image data to save memory.\n",
    "from sklearn.model_selection import train_test_split\n",
    "train_X_path, test_X_path, train_Y_path, test_Y_path = train_test_split(\n",
    "    data_path['image_path'].values, \n",
    "    data_path['label'].values, \n",
    "    test_size=0.2, random_state=10)"
   ]
  },
  {
   "cell_type": "code",
   "execution_count": 5,
   "metadata": {},
   "outputs": [
    {
     "name": "stdout",
     "output_type": "stream",
     "text": [
      "size of train_X_path: 22046\n",
      "size of test_X_path: 5512\n",
      "size of train_Y_path: 22046\n",
      "size of test_Y_path: 5512\n"
     ]
    }
   ],
   "source": [
    "print(\"size of train_X_path: %d\"%len(train_X_path))\n",
    "print(\"size of test_X_path: %d\"%len(test_X_path))\n",
    "print(\"size of train_Y_path: %d\"%len(train_Y_path))\n",
    "print(\"size of test_Y_path: %d\"%len(test_Y_path))"
   ]
  },
  {
   "cell_type": "code",
   "execution_count": 6,
   "metadata": {},
   "outputs": [],
   "source": [
    "\"\"\"\n",
    "The function takes an index and image path as parameters and returns a numpy array \n",
    "containing image data.\n",
    "The size of cell images vary, so we are resizing the image to the average size of \n",
    "blood cell images i.e. (128, 128)\n",
    "An intercubic interploation is used to sample 4x4 neighboring pixels to generate \n",
    "a good quality of resized image.\n",
    "\"\"\"\n",
    "def img_path_to_array(index, path):\n",
    "    if index % 5000 == 0:\n",
    "        print(\"Image conversion completed: \" + str(index))\n",
    "    img = cv2.imread(path)\n",
    "    img = cv2.resize(img, dsize=(128,128),\n",
    "                     interpolation=cv2.INTER_CUBIC)\n",
    "    img = np.array(img, dtype=np.float32)\n",
    "    return img"
   ]
  },
  {
   "cell_type": "code",
   "execution_count": 7,
   "metadata": {},
   "outputs": [],
   "source": [
    "#Enumerated image paths to keep track of processing during map\n",
    "train_X_enum = [(index, path) for index, path in enumerate(train_X_path)]\n",
    "test_X_enum = [(index, path) for index, path in enumerate(test_X_path)]"
   ]
  },
  {
   "cell_type": "code",
   "execution_count": 8,
   "metadata": {},
   "outputs": [
    {
     "name": "stdout",
     "output_type": "stream",
     "text": [
      "Processing Train Images:\n",
      "Image conversion completed: 0\n",
      "Image conversion completed: 5000\n",
      "Image conversion completed: 10000\n",
      "Image conversion completed: 15000\n",
      "Image conversion completed: 20000\n",
      "\n",
      "Processing Test Images:\n",
      "Image conversion completed: 0\n",
      "Image conversion completed: 5000\n"
     ]
    }
   ],
   "source": [
    "#processing the images by mapping enumerated path array into img_path_to_array function\n",
    "print('Processing Train Images:')\n",
    "train_X_map = map(img_path_to_array,\n",
    "                        [index[0] for index in train_X_enum],\n",
    "                        [path[1] for path in train_X_enum])\n",
    "train_X = np.array(list(train_X_map))\n",
    "\n",
    "print('\\nProcessing Test Images:')\n",
    "test_X_map = map(img_path_to_array,\n",
    "                        [index[0] for index in test_X_enum],\n",
    "                        [path[1] for path in test_X_enum])\n",
    "test_X = np.array(list(test_X_map))"
   ]
  },
  {
   "cell_type": "code",
   "execution_count": 9,
   "metadata": {},
   "outputs": [],
   "source": [
    "#Enumerated image labels to keep track of processing during map\n",
    "train_Y_enum = [(index, label) for index, label in enumerate(train_Y_path)]\n",
    "test_Y_enum = [(index, label) for index, label in enumerate(test_Y_path)]"
   ]
  },
  {
   "cell_type": "code",
   "execution_count": 10,
   "metadata": {},
   "outputs": [],
   "source": [
    "\"\"\"\n",
    "This function takes index and label path as parameters and returns the encoded \n",
    "value of the label i.e. '1' for parasitized & '0' for Uninfected.\n",
    "\"\"\"\n",
    "def label_path_to_array(index, label):\n",
    "    if index % 5000 == 0:\n",
    "        print(\"Label conversion completed: \" + str(index))\n",
    "    if label == 'Parasitized':\n",
    "        return 1\n",
    "    else:\n",
    "        return 0"
   ]
  },
  {
   "cell_type": "code",
   "execution_count": 11,
   "metadata": {},
   "outputs": [
    {
     "name": "stdout",
     "output_type": "stream",
     "text": [
      "Processing Train Label:\n",
      "Label conversion completed: 0\n",
      "Label conversion completed: 5000\n",
      "Label conversion completed: 10000\n",
      "Label conversion completed: 15000\n",
      "Label conversion completed: 20000\n",
      "\n",
      "Processing Test Label:\n",
      "Label conversion completed: 0\n",
      "Label conversion completed: 5000\n"
     ]
    }
   ],
   "source": [
    "#processing the images by mapping enumerated path array into label_path_to_array function\n",
    "print('Processing Train Label:')\n",
    "train_Y_map = map(label_path_to_array,\n",
    "                        [index[0] for index in train_Y_enum],\n",
    "                        [label[1] for label in train_Y_enum])\n",
    "train_Y = np.array(list(train_Y_map)).reshape(-1,1)\n",
    "\n",
    "print('\\nProcessing Test Label:')\n",
    "test_Y_map = map(label_path_to_array,\n",
    "                        [index[0] for index in test_Y_enum],\n",
    "                        [label[1] for label in test_Y_enum])\n",
    "test_Y = np.array(list(test_Y_map)).reshape(-1,1)"
   ]
  },
  {
   "cell_type": "code",
   "execution_count": 12,
   "metadata": {},
   "outputs": [
    {
     "name": "stdout",
     "output_type": "stream",
     "text": [
      "shape of train_X: (22046, 128, 128, 3)\n",
      "shape of train_y: (22046, 1)\n",
      "shape of test_X: (5512, 128, 128, 3)\n",
      "shape of test_X: (5512, 1)\n"
     ]
    }
   ],
   "source": [
    "print(\"shape of train_X: \" + str(train_X.shape))\n",
    "print(\"shape of train_y: \" + str(train_Y.shape))\n",
    "print(\"shape of test_X: \" + str(test_X.shape))\n",
    "print(\"shape of test_X: \" + str(test_Y.shape))"
   ]
  },
  {
   "cell_type": "code",
   "execution_count": 13,
   "metadata": {},
   "outputs": [
    {
     "name": "stdout",
     "output_type": "stream",
     "text": [
      "your sample is Parasitized\n"
     ]
    },
    {
     "data": {
      "text/plain": [
       "<matplotlib.image.AxesImage at 0x157542b7860>"
      ]
     },
     "execution_count": 13,
     "metadata": {},
     "output_type": "execute_result"
    },
    {
     "data": {
      "image/png": "[encoded data removed]",
      "text/plain": [
       "<Figure size 432x288 with 1 Axes>"
      ]
     },
     "metadata": {
      "needs_background": "light"
     },
     "output_type": "display_data"
    }
   ],
   "source": [
    "#a sample image and label for sanity check\n",
    "index = 22000\n",
    "if train_Y[index] == 1:\n",
    "    diagnosis = 'Parasitized'\n",
    "else:\n",
    "    diagnosis = 'Uninfected'\n",
    "print(\"your sample is \" + diagnosis)\n",
    "plt.imshow(train_X[index]/255.)"
   ]
  },
  {
   "cell_type": "code",
   "execution_count": 14,
   "metadata": {},
   "outputs": [],
   "source": [
    "#Scaling the training data from 0-255 to 0-1 scale for better processing.\n",
    "train_X_scaled = train_X/255.\n",
    "test_X_scaled = test_X/255."
   ]
  },
  {
   "cell_type": "code",
   "execution_count": 15,
   "metadata": {},
   "outputs": [],
   "source": [
    "#importing tensorflow\n",
    "import tensorflow as tf"
   ]
  },
  {
   "cell_type": "code",
   "execution_count": 16,
   "metadata": {},
   "outputs": [],
   "source": [
    "\"\"\"\n",
    "This function takes input shape of the convolutional neural network and drop rate for\n",
    "regularization of the model to avoid overfitting and returns a model.\n",
    "note: some of the layers are commented out for reducing the length and hence the \n",
    "training time of the model for trial purpose.\n",
    "\"\"\"\n",
    "def create_model(input_shape, drop_rate):\n",
    "    \"\"\"\n",
    "    input:\n",
    "    input_shape: it is the shape of input image, its (128,128) in this case.\n",
    "    drop_rate: it is the drop rate for regularization.\n",
    "    \n",
    "    return:\n",
    "    model: tensorflow model\n",
    "    \"\"\"\n",
    "    \n",
    "    #input layer shape\n",
    "    inp_layer = tf.keras.layers.Input(shape = input_shape)\n",
    "    #layer 1\n",
    "    conv1 = tf.keras.layers.Conv2D(32, kernel_size=(3,3), activation='relu', padding='same')(inp_layer)\n",
    "    pool1 = tf.keras.layers.MaxPooling2D(pool_size=(2,2))(conv1)\n",
    "    #layer 2\n",
    "    conv2 = tf.keras.layers.Conv2D(64, kernel_size=(3,3), activation='relu', padding='same')(pool1)\n",
    "    pool2 = tf.keras.layers.MaxPooling2D(pool_size=(2,2))(conv2)\n",
    "    \"\"\"\n",
    "    #layer 3\n",
    "    conv3 = tf.keras.layers.Conv2D(128, kernel_size=(3,3), activation='relu', padding='same')(pool2)\n",
    "    pool3 = tf.keras.layers.MaxPooling2D(pool_size=(2,2))(conv3)\n",
    "    #layer 4\n",
    "    conv4 = tf.keras.layers.Conv2D(256, kernel_size=(3,3), activation='relu', padding='same')(pool3)\n",
    "    pool4 = tf.keras.layers.MaxPooling2D(pool_size=(2,2))(conv4)\n",
    "    #layer 5\n",
    "    conv5 = tf.keras.layers.Conv2D(512, kernel_size=(3,3), activation='relu', padding='same')(pool4)\n",
    "    pool5 = tf.keras.layers.MaxPooling2D(pool_size=(2,2))(conv5)\n",
    "    \"\"\"\n",
    "    #flatten\n",
    "    flat = tf.keras.layers.Flatten()(pool2)\n",
    "    \n",
    "    #hidden layer 1\n",
    "    hid1 = tf.keras.layers.Dense(512, activation='relu')(flat)\n",
    "    drop1 = tf.keras.layers.Dropout(rate=drop_rate)(hid1)\n",
    "    #hidden layer 2\n",
    "    hid2 = tf.keras.layers.Dense(256, activation='relu')(drop1)\n",
    "    drop2 = tf.keras.layers.Dropout(rate=drop_rate)(hid2)\n",
    "    \"\"\"\n",
    "    #hidden layer 3\n",
    "    hid3 = tf.keras.layers.Dense(256, activation='relu')(drop2)\n",
    "    drop3 = tf.keras.layers.Dropout(rate=drop_rate)(hid3)\n",
    "    #hidden layer 3\n",
    "    hid4 = tf.keras.layers.Dense(128, activation='relu')(drop3)\n",
    "    drop4 = tf.keras.layers.Dropout(rate=drop_rate)(hid4)\n",
    "    \"\"\"\n",
    "    #output layer\n",
    "    out_layer = tf.keras.layers.Dense(1, activation='sigmoid')(drop2)\n",
    "    #create final model\n",
    "    model = tf.keras.Model(inputs=inp_layer, outputs=out_layer)\n",
    "    \n",
    "    return model    "
   ]
  },
  {
   "cell_type": "code",
   "execution_count": 20,
   "metadata": {},
   "outputs": [
    {
     "name": "stdout",
     "output_type": "stream",
     "text": [
      "_________________________________________________________________\n",
      "Layer (type)                 Output Shape              Param #   \n",
      "=================================================================\n",
      "input_3 (InputLayer)         (None, 128, 128, 3)       0         \n",
      "_________________________________________________________________\n",
      "conv2d_4 (Conv2D)            (None, 128, 128, 32)      896       \n",
      "_________________________________________________________________\n",
      "max_pooling2d_4 (MaxPooling2 (None, 64, 64, 32)        0         \n",
      "_________________________________________________________________\n",
      "conv2d_5 (Conv2D)            (None, 64, 64, 64)        18496     \n",
      "_________________________________________________________________\n",
      "max_pooling2d_5 (MaxPooling2 (None, 32, 32, 64)        0         \n",
      "_________________________________________________________________\n",
      "flatten_2 (Flatten)          (None, 65536)             0         \n",
      "_________________________________________________________________\n",
      "dense_6 (Dense)              (None, 512)               33554944  \n",
      "_________________________________________________________________\n",
      "dropout_4 (Dropout)          (None, 512)               0         \n",
      "_________________________________________________________________\n",
      "dense_7 (Dense)              (None, 256)               131328    \n",
      "_________________________________________________________________\n",
      "dropout_5 (Dropout)          (None, 256)               0         \n",
      "_________________________________________________________________\n",
      "dense_8 (Dense)              (None, 1)                 257       \n",
      "=================================================================\n",
      "Total params: 33,705,921\n",
      "Trainable params: 33,705,921\n",
      "Non-trainable params: 0\n",
      "_________________________________________________________________\n"
     ]
    }
   ],
   "source": [
    "#create a model with create_model function and compile it to get the summary.\n",
    "model = create_model((128, 128, 3), drop_rate=0.1)\n",
    "model.compile(optimizer='adam', loss='binary_crossentropy', metrics=['accuracy'])\n",
    "model.summary()"
   ]
  },
  {
   "cell_type": "code",
   "execution_count": 19,
   "metadata": {},
   "outputs": [
    {
     "name": "stdout",
     "output_type": "stream",
     "text": [
      "Train on 22046 samples, validate on 5512 samples\n",
      "WARNING:tensorflow:From C:\\Users\\USER\\Anaconda3\\lib\\site-packages\\tensorflow\\python\\ops\\math_ops.py:3066: to_int32 (from tensorflow.python.ops.math_ops) is deprecated and will be removed in a future version.\n",
      "Instructions for updating:\n",
      "Use tf.cast instead.\n",
      "Epoch 1/5\n",
      "22046/22046 [==============================] - 1270s 58ms/sample - loss: 0.4799 - acc: 0.7683 - val_loss: 0.2237 - val_acc: 0.9345\n",
      "Epoch 2/5\n",
      "22046/22046 [==============================] - 1168s 53ms/sample - loss: 0.1880 - acc: 0.9386 - val_loss: 0.1702 - val_acc: 0.9445\n",
      "Epoch 3/5\n",
      "22046/22046 [==============================] - 1137s 52ms/sample - loss: 0.1312 - acc: 0.9556 - val_loss: 0.1647 - val_acc: 0.9512\n",
      "Epoch 4/5\n",
      "22046/22046 [==============================] - 1127s 51ms/sample - loss: 0.0875 - acc: 0.9699 - val_loss: 0.1910 - val_acc: 0.9461\n",
      "Epoch 5/5\n",
      "22046/22046 [==============================] - 1120s 51ms/sample - loss: 0.0708 - acc: 0.9756 - val_loss: 0.2063 - val_acc: 0.9425\n"
     ]
    }
   ],
   "source": [
    "#training the model\n",
    "result = model.fit(x = train_X_scaled, y = train_Y, batch_size=64, epochs = 5, validation_data=(test_X_scaled, test_Y))"
   ]
  },
  {
   "cell_type": "code",
   "execution_count": null,
   "metadata": {},
   "outputs": [],
   "source": []
  },
  {
   "cell_type": "code",
   "execution_count": null,
   "metadata": {},
   "outputs": [],
   "source": []
  },
  {
   "cell_type": "code",
   "execution_count": null,
   "metadata": {},
   "outputs": [],
   "source": []
  },
  {
   "cell_type": "code",
   "execution_count": null,
   "metadata": {},
   "outputs": [],
   "source": []
  },
  {
   "cell_type": "code",
   "execution_count": null,
   "metadata": {},
   "outputs": [],
   "source": []
  },
  {
   "cell_type": "code",
   "execution_count": null,
   "metadata": {},
   "outputs": [],
   "source": []
  },
  {
   "cell_type": "code",
   "execution_count": null,
   "metadata": {},
   "outputs": [],
   "source": []
  }
 ],
 "metadata": {
  "kernelspec": {
   "display_name": "Python 3",
   "language": "python",
   "name": "python3"
  },
  "language_info": {
   "codemirror_mode": {
    "name": "ipython",
    "version": 3
   },
   "file_extension": ".py",
   "mimetype": "text/x-python",
   "name": "python",
   "nbconvert_exporter": "python",
   "pygments_lexer": "ipython3",
   "version": "3.7.3"
  }
 },
 "nbformat": 4,
 "nbformat_minor": 2
}
